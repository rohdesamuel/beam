{
 "cells": [
  {
   "cell_type": "code",
   "execution_count": 1,
   "metadata": {},
   "outputs": [
    {
     "name": "stderr",
     "output_type": "stream",
     "text": [
      "/usr/local/google/home/srohde/Workdir/beam/intbeam/sdks/python/apache_beam/__init__.py:84: UserWarning: Some syntactic constructs of Python 3 are not yet fully supported by Apache Beam.\n",
      "  'Some syntactic constructs of Python 3 are not yet fully supported by '\n"
     ]
    }
   ],
   "source": [
    "from __future__ import print_function\n",
    "from ipywidgets import interact, interactive, fixed, interact_manual\n",
    "import ipywidgets as widgets\n",
    "\n",
    "%gui asyncio\n",
    "%config IPCompleter.greedy=True\n",
    "import apache_beam as beam\n",
    "from apache_beam.runners.interactive import interactive_runner\n",
    "from apache_beam.runners.direct import direct_runner\n",
    "from apache_beam.testing.test_stream import TestStream\n",
    "from apache_beam.options.pipeline_options import PipelineOptions\n",
    "from apache_beam.options.pipeline_options import SetupOptions\n",
    "from apache_beam.options.pipeline_options import StandardOptions\n",
    "from apache_beam.options.pipeline_options import DebugOptions\n",
    "from apache_beam.portability.api import beam_fn_api_pb2\n",
    "from apache_beam.portability.api import beam_fn_api_pb2_grpc\n",
    "from apache_beam.portability.api import beam_interactive_api_pb2\n",
    "from apache_beam.portability.api import beam_interactive_api_pb2_grpc\n",
    "import time\n",
    "import cProfile\n",
    "import grpc"
   ]
  },
  {
   "cell_type": "code",
   "execution_count": 2,
   "metadata": {
    "scrolled": false
   },
   "outputs": [
    {
     "data": {
      "application/vnd.jupyter.widget-view+json": {
       "model_id": "0ecbf723c48449cc98c413193ea48fc4",
       "version_major": 2,
       "version_minor": 0
      },
      "text/plain": [
       "Button(description='Play', style=ButtonStyle())"
      ]
     },
     "metadata": {},
     "output_type": "display_data"
    },
    {
     "data": {
      "application/vnd.jupyter.widget-view+json": {
       "model_id": "c0e2cea399d6441c828b9fbd54607285",
       "version_major": 2,
       "version_minor": 0
      },
      "text/plain": [
       "Output()"
      ]
     },
     "metadata": {},
     "output_type": "display_data"
    },
    {
     "data": {
      "application/vnd.jupyter.widget-view+json": {
       "model_id": "3d97d810d03a4137b4e58eebbd01b0e6",
       "version_major": 2,
       "version_minor": 0
      },
      "text/plain": [
       "Button(description='Pause', style=ButtonStyle())"
      ]
     },
     "metadata": {},
     "output_type": "display_data"
    },
    {
     "data": {
      "application/vnd.jupyter.widget-view+json": {
       "model_id": "c0e2cea399d6441c828b9fbd54607285",
       "version_major": 2,
       "version_minor": 0
      },
      "text/plain": [
       "Output()"
      ]
     },
     "metadata": {},
     "output_type": "display_data"
    },
    {
     "data": {
      "application/vnd.jupyter.widget-view+json": {
       "model_id": "9d907422e8504009b61374c1c2e6cced",
       "version_major": 2,
       "version_minor": 0
      },
      "text/plain": [
       "Button(description='Step', style=ButtonStyle())"
      ]
     },
     "metadata": {},
     "output_type": "display_data"
    },
    {
     "data": {
      "application/vnd.jupyter.widget-view+json": {
       "model_id": "c0e2cea399d6441c828b9fbd54607285",
       "version_major": 2,
       "version_minor": 0
      },
      "text/plain": [
       "Output()"
      ]
     },
     "metadata": {},
     "output_type": "display_data"
    }
   ],
   "source": [
    "from IPython.display import display\n",
    "play_button = widgets.Button(description=\"Play\")\n",
    "pause_button = widgets.Button(description=\"Pause\")\n",
    "step_button = widgets.Button(description=\"Step\")\n",
    "\n",
    "output = widgets.Output()\n",
    "display(play_button, output)\n",
    "display(pause_button, output)\n",
    "display(step_button, output)\n",
    "\n",
    "def on_play_button(b):\n",
    "    with output:\n",
    "        channel = grpc.insecure_channel('localhost:12345')\n",
    "        stub = beam_interactive_api_pb2_grpc.InteractiveServiceStub(channel)\n",
    "        stub.Start(beam_interactive_api_pb2.StartRequest())\n",
    "        \n",
    "def on_pause_button(b):\n",
    "    with output:\n",
    "        channel = grpc.insecure_channel('loIs an explicit API that the user will know exactly what to expect when they rerun a pipelinecalhost:12345')\n",
    "        stub = beam_interactive_api_pb2_grpc.InteractiveServiceStub(channel)\n",
    "        stub.Pause(beam_interactive_api_pb2.PauseRequest())\n",
    "        \n",
    "def on_step_button(b):\n",
    "    with output:\n",
    "        channel = grpc.insecure_channel('localhost:12345')\n",
    "        stub = beam_interactive_api_pb2_grpc.InteractiveServiceStub(channel)\n",
    "        stub.Step(beam_interactive_api_pb2.StepRequest())\n",
    "\n",
    "play_button.on_click(on_play_button)\n",
    "pause_button.on_click(on_pause_button)\n",
    "step_button.on_click(on_step_button)\n",
    "\n"
   ]
  },
  {
   "cell_type": "code",
   "execution_count": 3,
   "metadata": {
    "scrolled": false
   },
   "outputs": [
    {
     "name": "stderr",
     "output_type": "stream",
     "text": [
      "Exception in thread Thread-4:\n",
      "Traceback (most recent call last):\n",
      "  File \"/usr/lib/python3.6/threading.py\", line 916, in _bootstrap_inner\n",
      "    self.run()\n",
      "  File \"/usr/lib/python3.6/threading.py\", line 864, in run\n",
      "    self._target(*self._args, **self._kwargs)\n",
      "  File \"<ipython-input-3-530fa9a6ca9d>\", line 27, in run\n",
      "    result = p.run()\n",
      "  File \"/usr/local/google/home/srohde/Workdir/beam/intbeam/sdks/python/apache_beam/pipeline.py\", line 405, in run\n",
      "    self.to_runner_api(use_fake_coders=True),\n",
      "  File \"/usr/local/google/home/srohde/Workdir/beam/intbeam/sdks/python/apache_beam/pipeline.py\", line 659, in to_runner_api\n",
      "    root_transform_id = context.transforms.get_id(self._root_transform())\n",
      "  File \"/usr/local/google/home/srohde/Workdir/beam/intbeam/sdks/python/apache_beam/runners/pipeline_context.py\", line 85, in get_id\n",
      "    self._id_to_proto[id] = obj.to_runner_api(self._pipeline_context)\n",
      "  File \"/usr/local/google/home/srohde/Workdir/beam/intbeam/sdks/python/apache_beam/pipeline.py\", line 880, in to_runner_api\n",
      "    for part in self.parts],\n",
      "  File \"/usr/local/google/home/srohde/Workdir/beam/intbeam/sdks/python/apache_beam/pipeline.py\", line 880, in <listcomp>\n",
      "    for part in self.parts],\n",
      "  File \"/usr/local/google/home/srohde/Workdir/beam/intbeam/sdks/python/apache_beam/runners/pipeline_context.py\", line 85, in get_id\n",
      "    self._id_to_proto[id] = obj.to_runner_api(self._pipeline_context)\n",
      "  File \"/usr/local/google/home/srohde/Workdir/beam/intbeam/sdks/python/apache_beam/pipeline.py\", line 880, in to_runner_api\n",
      "    for part in self.parts],\n",
      "  File \"/usr/local/google/home/srohde/Workdir/beam/intbeam/sdks/python/apache_beam/pipeline.py\", line 880, in <listcomp>\n",
      "    for part in self.parts],\n",
      "  File \"/usr/local/google/home/srohde/Workdir/beam/intbeam/sdks/python/apache_beam/runners/pipeline_context.py\", line 85, in get_id\n",
      "    self._id_to_proto[id] = obj.to_runner_api(self._pipeline_context)\n",
      "  File \"/usr/local/google/home/srohde/Workdir/beam/intbeam/sdks/python/apache_beam/pipeline.py\", line 882, in to_runner_api\n",
      "    for tag, pc in sorted(self.named_inputs().items())},\n",
      "  File \"/usr/local/google/home/srohde/Workdir/beam/intbeam/sdks/python/apache_beam/pipeline.py\", line 882, in <dictcomp>\n",
      "    for tag, pc in sorted(self.named_inputs().items())},\n",
      "  File \"/usr/local/google/home/srohde/Workdir/beam/intbeam/sdks/python/apache_beam/runners/pipeline_context.py\", line 85, in get_id\n",
      "    self._id_to_proto[id] = obj.to_runner_api(self._pipeline_context)\n",
      "  File \"/usr/local/google/home/srohde/Workdir/beam/intbeam/sdks/python/apache_beam/pvalue.py\", line 163, in to_runner_api\n",
      "    self.windowing))\n",
      "  File \"/usr/local/google/home/srohde/Workdir/beam/intbeam/sdks/python/apache_beam/pvalue.py\", line 137, in windowing\n",
      "    self._windowing = self.producer.transform.get_windowing(\n",
      "AttributeError: 'NoneType' object has no attribute 'transform'\n",
      "\n"
     ]
    }
   ],
   "source": [
    "from functools import partial\n",
    "import threading\n",
    "pipeline_options = PipelineOptions()\n",
    "pipeline_options.view_as(StandardOptions).streaming = True\n",
    "\n",
    "def printer(name, x):\n",
    "    print(name, \"produced\", x)\n",
    "    return x\n",
    "\n",
    "def named_printer(name):\n",
    "    return partial(printer, name)\n",
    "    \n",
    "\n",
    "def run():\n",
    "    cache_dir = '/usr/local/google/home/srohde/Workdir/beam/intbeam/tmp/cache'\n",
    "    runner = interactive_runner.InteractiveRunner(\n",
    "        render_option='mute',\n",
    "        endpoint='localhost:12345',\n",
    "        cache_dir=cache_dir)  # render_option could also be 'mute', 'text'\n",
    "    p = beam.Pipeline(runner=runner, options=pipeline_options)\n",
    "    pc = p | 'read' >> (TestStream(endpoint='localhost:12345'))\n",
    "    \n",
    "    \n",
    "    \n",
    "    squares = pc | 'Square' >> beam.Map(lambda x: x*x) | beam.Map(named_printer('square'))\n",
    "    cubes = pc | 'Cube' >> beam.Map(lambda x: x**3) | beam.Map(named_printer('cubes'))\n",
    "    result = p.run()\n",
    "    \n",
    "t = threading.Thread(target=run)\n",
    "t.daemon = True\n",
    "t.start()"
   ]
  },
  {
   "cell_type": "code",
   "execution_count": 4,
   "metadata": {},
   "outputs": [
    {
     "name": "stdout",
     "output_type": "stream",
     "text": [
      "/usr/local/google/home/srohde/Workdir/beam/intbeam/tmp/cache\n",
      "b'\\n\\x04\\n\\x02\\x01\\x00\\x12\\x00\\x1a\\x00'\n",
      "b'\\n\\x06\\n\\x02\\x01\\x01\\x10\\x01\\x12\\x02\\x08\\x01\\x1a\\x02\\x08\\x01'\n",
      "b'\\n\\x06\\n\\x02\\x01\\x02\\x10\\x02\\x12\\x02\\x08\\x02\\x1a\\x02\\x08\\x02'\n",
      "b'\\n\\x06\\n\\x02\\x01\\x03\\x10\\x03\\x12\\x02\\x08\\x03\\x1a\\x02\\x08\\x03'\n",
      "b'\\n\\x06\\n\\x02\\x01\\x04\\x10\\x04\\x12\\x02\\x08\\x04\\x1a\\x02\\x08\\x04'\n",
      "b'\\n\\x06\\n\\x02\\x01\\x05\\x10\\x05\\x12\\x02\\x08\\x05\\x1a\\x02\\x08\\x05'\n",
      "b'\\n\\x06\\n\\x02\\x01\\x06\\x10\\x06\\x12\\x02\\x08\\x06\\x1a\\x02\\x08\\x06'\n",
      "b'\\n\\x06\\n\\x02\\x01\\x07\\x10\\x07\\x12\\x02\\x08\\x07\\x1a\\x02\\x08\\x07'\n",
      "b'\\n\\x06\\n\\x02\\x01\\x08\\x10\\x08\\x12\\x02\\x08\\x08\\x1a\\x02\\x08\\x08'\n",
      "b'\\n\\x06\\n\\x02\\x01\\t\\x10\\t\\x12\\x02\\x08\\t\\x1a\\x02\\x08\\t'\n"
     ]
    }
   ],
   "source": [
    "import os\n",
    "import tempfile\n",
    "from apache_beam import coders\n",
    "from apache_beam.runners.interactive.caching.file_based_cache import TextBasedCache\n",
    "from google.protobuf import timestamp_pb2\n",
    "from apache_beam.portability.api.beam_interactive_api_pb2 import InteractiveStreamRecord\n",
    "from apache_beam.portability.api.beam_runner_api_pb2 import TestStreamPayload\n",
    "from apache_beam.io.filesystems import FileSystems\n",
    "\n",
    "def to_timestamp_proto(timestamp_secs):\n",
    "  \"\"\"Converts seconds since epoch to a google.protobuf.Timestamp.\n",
    "  \"\"\"\n",
    "  seconds = int(timestamp_secs)\n",
    "  nanos = int((timestamp_secs - seconds) * 10**9)\n",
    "  return timestamp_pb2.Timestamp(seconds=seconds, nanos=nanos)\n",
    "\n",
    "\n",
    "temp_dir = '/usr/local/google/home/srohde/Workdir/beam/intbeam/tmp'\n",
    "cache_dir = FileSystems.join(temp_dir, 'cache')\n",
    "print(cache_dir)\n",
    "file_cache = TextBasedCache(cache_dir)\n",
    "\n",
    "coder = coders.FastPrimitivesCoder()\n",
    "elements = []\n",
    "for i in range(10):\n",
    "  element = TestStreamPayload.TimestampedElement(\n",
    "      encoded_element=coder.encode(i), timestamp=i)\n",
    "  record = InteractiveStreamRecord(\n",
    "      element=element,\n",
    "      processing_time=to_timestamp_proto(i),\n",
    "      watermark=to_timestamp_proto(i))\n",
    "  elements.append(record.SerializeToString())\n",
    "file_cache.write(elements)\n",
    "for r in file_cache.read():\n",
    "    print(r)\n"
   ]
  }
 ],
 "metadata": {
  "kernelspec": {
   "display_name": "Python (env)",
   "language": "python",
   "name": "beam_venv_kernel"
  },
  "language_info": {
   "codemirror_mode": {
    "name": "ipython",
    "version": 3
   },
   "file_extension": ".py",
   "mimetype": "text/x-python",
   "name": "python",
   "nbconvert_exporter": "python",
   "pygments_lexer": "ipython3",
   "version": "3.6.8"
  }
 },
 "nbformat": 4,
 "nbformat_minor": 2
}
